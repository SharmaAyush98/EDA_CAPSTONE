{
  "nbformat": 4,
  "nbformat_minor": 0,
  "metadata": {
    "kernelspec": {
      "display_name": "Python 3",
      "language": "python",
      "name": "python3"
    },
    "language_info": {
      "codemirror_mode": {
        "name": "ipython",
        "version": 3
      },
      "file_extension": ".py",
      "mimetype": "text/x-python",
      "name": "python",
      "nbconvert_exporter": "python",
      "pygments_lexer": "ipython3",
      "version": "3.6.6"
    },
    "colab": {
      "name": "Airbnb Bookings Analysis - Capstone Project.ipynb",
      "provenance": [],
      "collapsed_sections": [],
      "include_colab_link": true
    }
  },
  "cells": [
    {
      "cell_type": "markdown",
      "metadata": {
        "id": "view-in-github",
        "colab_type": "text"
      },
      "source": [
        "<a href=\"https://colab.research.google.com/github/SharmaAyush98/EDA_CAPSTONE/blob/main/Airbnb_Bookings_Analysis_Capstone_Project.ipynb\" target=\"_parent\"><img src=\"https://colab.research.google.com/assets/colab-badge.svg\" alt=\"Open In Colab\"/></a>"
      ]
    },
    {
      "cell_type": "markdown",
      "source": [
        "**Airbnb Booking Analysis**\n",
        "\n",
        "**Capstone Project EDA**\n",
        "\n",
        "**Team - pro-infinity**\n",
        "\n",
        "**Team Members - Ayush Sharma, Saurabh Aradwad, Rishika Rai, Aman Guleria, Murlidharan M**"
      ],
      "metadata": {
        "id": "a6G-_Q3xkmjF"
      }
    },
    {
      "cell_type": "markdown",
      "source": [
        "**Problem statement**\n",
        "\n",
        "> Indented block\n",
        "\n",
        "Airbnb is a privately held website that connects homeowners with travelers looking for\n",
        " accommodations. With the help of few guidelines that allow hosts to compare their listings to\n",
        " others in the area to determine a fair price, Airbnb gives its hosts unlimited freedom\n",
        " to set the price for their units. On the other hand, guests who use Airbnb frequently \n",
        "experience lodging issues for a variety of reasons. Seasonal rushes, unforeseen \n",
        "cancellations of reservations, host preferences, etc. may all fall under this category.\n",
        "\n",
        "Airbnb wants to know more about their customers and providers (hosts) so, What kind of measures can be taken to improve security, What can be their \n",
        "\n",
        "* What kind of measures can be taken to improve security, What can be their further business decisions?\n",
        "* which are the busiest or least busy areas according to customers or hosts and why?\n",
        "* what is our new marketing initiatives as well as the implementation of innovative additional services? \n",
        "*  What can we learn from different pricing in different areas?\n",
        "*  What can be learnt from difference areas with different pricing? \n",
        "* What marketing strategy can be taken with the help of most busiest area column.\n",
        "\n",
        "\n",
        "*  \n",
        "*  \n",
        "\n",
        "\n",
        "\n",
        "\n",
        "This dataset has around 49,000 observations in it with 16 columns and it is a mix between categorical and numeric values."
      ],
      "metadata": {
        "id": "9iZqN8VolbaK"
      }
    },
    {
      "cell_type": "markdown",
      "metadata": {
        "id": "Y06xIdG26kRF"
      },
      "source": [
        ""
      ]
    },
    {
      "cell_type": "code",
      "metadata": {
        "id": "dByMsuzT8Tnw"
      },
      "source": [
        "# Importing all the required libraries for the analysis of given dataset\n",
        "import numpy as np\n",
        "import pandas as pd\n",
        "import matplotlib.pyplot as plt\n",
        "%matplotlib inline\n",
        "import seaborn as sns"
      ],
      "execution_count": 6,
      "outputs": []
    },
    {
      "cell_type": "code",
      "source": [
        "# Connecting to google drive with mount method\n",
        "\n",
        "from google.colab import drive\n",
        "drive.mount('/content/drive')"
      ],
      "metadata": {
        "colab": {
          "base_uri": "https://localhost:8080/"
        },
        "id": "AcSvfzBmmrQI",
        "outputId": "7921c1bb-ecf2-4cbe-ad55-d2da9b3a8788"
      },
      "execution_count": 7,
      "outputs": [
        {
          "output_type": "stream",
          "name": "stdout",
          "text": [
            "Drive already mounted at /content/drive; to attempt to forcibly remount, call drive.mount(\"/content/drive\", force_remount=True).\n"
          ]
        }
      ]
    },
    {
      "cell_type": "code",
      "source": [
        "# Creating var airbnb using pandas read csv funtion\n",
        "\n",
        "airbnb = pd.read_csv(\"/content/drive/MyDrive/Capstone Project Folder/01 EDA/Airbnb NYC 2019.csv\")\n",
        "\n",
        "\n",
        "# Testing csv file mounting\n",
        "\n",
        "airbnb"
      ],
      "metadata": {
        "id": "j3H-x0-4mgDC"
      },
      "execution_count": null,
      "outputs": []
    },
    {
      "cell_type": "code",
      "source": [
        "# Computing Dataset length using length function \n",
        "\n",
        "len(airbnb)"
      ],
      "metadata": {
        "colab": {
          "base_uri": "https://localhost:8080/"
        },
        "id": "Xn5HlEmsmgAX",
        "outputId": "aa656721-62e2-4995-c325-14dd28bef2a9"
      },
      "execution_count": null,
      "outputs": [
        {
          "output_type": "execute_result",
          "data": {
            "text/plain": [
              "48895"
            ]
          },
          "metadata": {},
          "execution_count": 4
        }
      ]
    },
    {
      "cell_type": "code",
      "source": [
        "# Checking All 16 columns "
      ],
      "metadata": {
        "id": "dI77lHsZmf9f"
      },
      "execution_count": null,
      "outputs": []
    },
    {
      "cell_type": "code",
      "source": [
        ""
      ],
      "metadata": {
        "id": "36p_sUDKmf6r"
      },
      "execution_count": null,
      "outputs": []
    },
    {
      "cell_type": "code",
      "source": [
        ""
      ],
      "metadata": {
        "id": "-93IDO52mfy0"
      },
      "execution_count": null,
      "outputs": []
    }
  ]
}